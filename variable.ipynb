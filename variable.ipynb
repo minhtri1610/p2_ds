{
 "cells": [
  {
   "cell_type": "code",
   "execution_count": 2,
   "metadata": {},
   "outputs": [
    {
     "data": {
      "text/plain": [
       "'test 02'"
      ]
     },
     "execution_count": 2,
     "metadata": {},
     "output_type": "execute_result"
    }
   ],
   "source": [
    "#tuple\n",
    "tp = (1,'test 01', 'test 02')\n",
    "tp\n",
    "tp[2]"
   ]
  },
  {
   "cell_type": "code",
   "execution_count": 6,
   "metadata": {},
   "outputs": [
    {
     "data": {
      "text/plain": [
       "['tmp01', 'tmp02']"
      ]
     },
     "execution_count": 6,
     "metadata": {},
     "output_type": "execute_result"
    }
   ],
   "source": [
    "#list\n",
    "v_list = [1, 'tmp01', 'tmp02']\n",
    "v_list\n",
    "v_list[-1]\n",
    "v_list.append('tri')\n",
    "v_list.remove('tri')\n",
    "v_list.pop(0)\n",
    "v_list"
   ]
  },
  {
   "cell_type": "code",
   "execution_count": 9,
   "metadata": {},
   "outputs": [
    {
     "data": {
      "text/plain": [
       "{'key_2': 'merry', 'key_3': 'Tri'}"
      ]
     },
     "execution_count": 9,
     "metadata": {},
     "output_type": "execute_result"
    }
   ],
   "source": [
    "#dict\n",
    "v_dict = {\n",
    "    'key_n' : \"jonhy\",\n",
    "    'key_2' : \"merry\"\n",
    "}\n",
    "v_dict.keys()\n",
    "v_dict.values()\n",
    "\n",
    "# update dict\n",
    "v_dict.update({'key_3' : 'Tri'})\n",
    "v_dict\n",
    "\n",
    "del v_dict['key_n']\n",
    "v_dict"
   ]
  },
  {
   "cell_type": "code",
   "execution_count": 19,
   "metadata": {},
   "outputs": [
    {
     "name": "stdout",
     "output_type": "stream",
     "text": [
      "có nè\n"
     ]
    }
   ],
   "source": [
    "#set\n",
    "# là 1 tập không có thứ tự, các phần tử ko trùng lặp\n",
    "v_set = set(['a', 1, 1, 'b', 'c'])\n",
    "v_set\n",
    "# v_set_2 = {'a', 'b', 'c'}\n",
    "# v_set_2\n",
    "#set thì không thể truy vấn bằng key\n",
    "# nếu muốn kiểm tra tồn tại thì dùng in\n",
    "if 'a' in v_set:\n",
    "    print('có nè')"
   ]
  },
  {
   "cell_type": "code",
   "execution_count": 13,
   "metadata": {},
   "outputs": [
    {
     "data": {
      "text/plain": [
       "[3, 4, 5, 6, 7, 8, 9]"
      ]
     },
     "execution_count": 13,
     "metadata": {},
     "output_type": "execute_result"
    }
   ],
   "source": [
    "arr_sort = [3,4,5,9,8,7,6]\n",
    "tmp = sorted(arr_sort)\n",
    "tmp"
   ]
  },
  {
   "cell_type": "code",
   "execution_count": 16,
   "metadata": {},
   "outputs": [
    {
     "data": {
      "text/plain": [
       "[0, 1, 2, 3]"
      ]
     },
     "execution_count": 16,
     "metadata": {},
     "output_type": "execute_result"
    }
   ],
   "source": [
    "lp = range(4)\n",
    "list (lp)"
   ]
  }
 ],
 "metadata": {
  "kernelspec": {
   "display_name": "Python 3",
   "language": "python",
   "name": "python3"
  },
  "language_info": {
   "codemirror_mode": {
    "name": "ipython",
    "version": 3
   },
   "file_extension": ".py",
   "mimetype": "text/x-python",
   "name": "python",
   "nbconvert_exporter": "python",
   "pygments_lexer": "ipython3",
   "version": "3.9.13"
  },
  "orig_nbformat": 4
 },
 "nbformat": 4,
 "nbformat_minor": 2
}
